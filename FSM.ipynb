{
  "nbformat": 4,
  "nbformat_minor": 0,
  "metadata": {
    "colab": {
      "provenance": [],
      "include_colab_link": true
    },
    "kernelspec": {
      "name": "python3",
      "display_name": "Python 3"
    },
    "language_info": {
      "name": "python"
    }
  },
  "cells": [
    {
      "cell_type": "markdown",
      "metadata": {
        "id": "view-in-github",
        "colab_type": "text"
      },
      "source": [
        "<a href=\"https://colab.research.google.com/github/KirpaDmitriy/Systems/blob/main/FSM.ipynb\" target=\"_parent\"><img src=\"https://colab.research.google.com/assets/colab-badge.svg\" alt=\"Open In Colab\"/></a>"
      ]
    },
    {
      "cell_type": "code",
      "execution_count": null,
      "metadata": {
        "colab": {
          "base_uri": "https://localhost:8080/"
        },
        "id": "76gdZHcv32FV",
        "outputId": "0383776e-4cea-4901-fb6e-8a33767ea94e"
      },
      "outputs": [
        {
          "output_type": "stream",
          "name": "stdout",
          "text": [
            "Looking in indexes: https://pypi.org/simple, https://us-python.pkg.dev/colab-wheels/public/simple/\n",
            "Collecting python-statemachine\n",
            "  Downloading python_statemachine-1.0.3-py2.py3-none-any.whl (25 kB)\n",
            "Installing collected packages: python-statemachine\n",
            "Successfully installed python-statemachine-1.0.3\n"
          ]
        }
      ],
      "source": [
        "pip install python-statemachine"
      ]
    },
    {
      "cell_type": "code",
      "source": [
        "from statemachine import StateMachine, State\n",
        " \n",
        "class LightBulb(StateMachine):\n",
        " \n",
        "    # creating states\n",
        "    offState = State(\"off\", initial = True)\n",
        "    onState = State(\"on\")\n",
        "      \n",
        "    # transitions of the state\n",
        "    switchOn = offState.to(onState)\n",
        "    switchOff = onState.to(offState)\n",
        "     \n",
        "         \n",
        "bulb = LightBulb()\n",
        "print(bulb.current_state)"
      ],
      "metadata": {
        "colab": {
          "base_uri": "https://localhost:8080/"
        },
        "id": "To2QAN7O4C4b",
        "outputId": "2d2833a9-5ea4-4dc2-b785-1d1cd494ecd3"
      },
      "execution_count": null,
      "outputs": [
        {
          "output_type": "stream",
          "name": "stdout",
          "text": [
            "State('off', id='offState', value='offState', initial=True, final=False)\n"
          ]
        }
      ]
    },
    {
      "cell_type": "code",
      "source": [
        "# Проверка свойств\n",
        "bulb.is_offState # returns True\n",
        "bulb.is_onState # returns False"
      ],
      "metadata": {
        "colab": {
          "base_uri": "https://localhost:8080/"
        },
        "id": "Zr1fKIFO4QIa",
        "outputId": "d4c80182-ecd4-4f01-c5dc-4243a23684b2"
      },
      "execution_count": null,
      "outputs": [
        {
          "output_type": "execute_result",
          "data": {
            "text/plain": [
              "False"
            ]
          },
          "metadata": {},
          "execution_count": 3
        }
      ]
    },
    {
      "cell_type": "code",
      "source": [
        "# Проверка количества состояний\n",
        "a = [s.identifier for s in bulb.states]\n",
        "print(a)"
      ],
      "metadata": {
        "colab": {
          "base_uri": "https://localhost:8080/"
        },
        "id": "nhUsswua4bFr",
        "outputId": "898bee13-8c30-4a92-ce62-b5ec303523e7"
      },
      "execution_count": null,
      "outputs": [
        {
          "output_type": "stream",
          "name": "stdout",
          "text": [
            "['offState', 'onState']\n"
          ]
        }
      ]
    },
    {
      "cell_type": "code",
      "source": [
        "# Проверка переходов\n",
        "b = [s.identifier for s in bulb.transitions]\n",
        "print(b)"
      ],
      "metadata": {
        "colab": {
          "base_uri": "https://localhost:8080/"
        },
        "id": "egIrE-g64gEs",
        "outputId": "b418f054-80ee-4224-f5ff-2567b28ca4fd"
      },
      "execution_count": null,
      "outputs": [
        {
          "output_type": "stream",
          "name": "stdout",
          "text": [
            "['switchOff', 'switchOn']\n"
          ]
        }
      ]
    },
    {
      "cell_type": "markdown",
      "source": [
        "[Реализация конечных автоматов на python](https://github.com/pytransitions/transitions)"
      ],
      "metadata": {
        "id": "ITf-CYc6MinW"
      }
    },
    {
      "cell_type": "code",
      "source": [
        "!pip install transitions\n",
        "import transitions\n",
        "\n",
        "from transitions import Machine\n",
        "\n",
        "# На этот объект будем вешать состояния\n",
        "class Matter(object):\n",
        "    pass\n",
        "\n",
        "lump = Matter()\n",
        "\n",
        "# Полный список состояний\n",
        "states=['solid', 'liquid', 'gas', 'plasma']\n",
        "\n",
        "# Добавляем таблицу переходов — из какое в какое состояние мы можем попасть\n",
        "transitions = [\n",
        "    { 'trigger': 'melt', 'source': 'solid', 'dest': 'liquid' },\n",
        "    { 'trigger': 'evaporate', 'source': 'liquid', 'dest': 'gas' },\n",
        "    { 'trigger': 'sublimate', 'source': 'solid', 'dest': 'gas' },\n",
        "    { 'trigger': 'ionize', 'source': 'gas', 'dest': 'plasma' }\n",
        "]\n",
        "\n",
        "# Инициализация машины\n",
        "machine = Machine(lump, states=states, transitions=transitions, initial='liquid')\n",
        "\n",
        "# Проверяем начальное состояние\n",
        "lump.state\n",
        "\n",
        "# И пробуем изменить состояние триггерами перехода\n",
        "lump.evaporate()\n",
        "lump.state\n",
        "\n",
        "lump.trigger('ionize')\n",
        "lump.state"
      ],
      "metadata": {
        "colab": {
          "base_uri": "https://localhost:8080/",
          "height": 160
        },
        "id": "QCOVcWJAMh73",
        "outputId": "1cad5564-e2f9-4a44-e0d5-64910e2702c1"
      },
      "execution_count": null,
      "outputs": [
        {
          "output_type": "stream",
          "name": "stdout",
          "text": [
            "Looking in indexes: https://pypi.org/simple, https://us-python.pkg.dev/colab-wheels/public/simple/\n",
            "Collecting transitions\n",
            "  Downloading transitions-0.9.0-py2.py3-none-any.whl (97 kB)\n",
            "\u001b[2K     \u001b[90m━━━━━━━━━━━━━━━━━━━━━━━━━━━━━━━━━━━━━━━━\u001b[0m \u001b[32m97.7/97.7 KB\u001b[0m \u001b[31m3.8 MB/s\u001b[0m eta \u001b[36m0:00:00\u001b[0m\n",
            "\u001b[?25hRequirement already satisfied: six in /usr/local/lib/python3.8/dist-packages (from transitions) (1.15.0)\n",
            "Installing collected packages: transitions\n",
            "Successfully installed transitions-0.9.0\n"
          ]
        },
        {
          "output_type": "execute_result",
          "data": {
            "text/plain": [
              "'plasma'"
            ],
            "application/vnd.google.colaboratory.intrinsic+json": {
              "type": "string"
            }
          },
          "metadata": {},
          "execution_count": 6
        }
      ]
    }
  ]
}