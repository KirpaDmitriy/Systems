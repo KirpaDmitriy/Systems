{
  "cells": [
    {
      "cell_type": "markdown",
      "metadata": {
        "id": "view-in-github",
        "colab_type": "text"
      },
      "source": [
        "<a href=\"https://colab.research.google.com/github/KirpaDmitriy/Systems/blob/main/Kirpa_FSM_DZ.ipynb\" target=\"_parent\"><img src=\"https://colab.research.google.com/assets/colab-badge.svg\" alt=\"Open In Colab\"/></a>"
      ]
    },
    {
      "cell_type": "markdown",
      "source": [
        "# Лабораторная работа №1 \"Синтез управляющего конечного автомата\"\n",
        "## Кирпа Дмитрий, P33211"
      ],
      "metadata": {
        "id": "DasbFiwBHvmM"
      }
    },
    {
      "cell_type": "markdown",
      "source": [
        "### Задание\n",
        "\n",
        "Требуется спроектировать конечный автомат, управляющий стиральной машиной.\n",
        "\n",
        "Стиральная машина работает в трех режимах: залив, стирка, слив. Машина начинает работать по нажатию кнопки «Пуск».\n",
        "После этого происходит залив воды до тех пор, пока датчик d1 уровня воды не подаст сигнал о заполнения бака стиральной машины. Затем происходит стирка.\n",
        "Эта операция ограничивается с помощью таймера t.\n",
        "\n",
        "Если таймер исправен, то по истечении определенного времени он выдает сигнал о завершении стирки и стиральная машина переходит в режим слива воды. Если таймер неисправен, то стиральная машина переходит в состояние «дефект», т.е. в состояние ожидания, которое может быть прервано только после ремонта стиральной машины.\n",
        "\n",
        "Из состояния «дефект» стиральная машина не может возвратиться в исходное состояние, поэтому последующее нажатие кнопки «Пуск» не приведет к запуску стиральной машины.\n",
        "\n",
        "Из неисправного состояния после ремонта стиральная машина возвращается в исходное состояние по сигналу reset. Слив воды завершается при получении сигнала от датчика d2 уровня воды о том, что в баке воды нет. После этого стиральная машина возвращается в исходное состояние.\n"
      ],
      "metadata": {
        "id": "raIU7pgvJRR_"
      }
    },
    {
      "cell_type": "markdown",
      "source": [
        "### Реализация"
      ],
      "metadata": {
        "id": "Hv1QJkCOJav3"
      }
    },
    {
      "cell_type": "code",
      "execution_count": null,
      "metadata": {
        "colab": {
          "base_uri": "https://localhost:8080/"
        },
        "id": "76gdZHcv32FV",
        "outputId": "128d173b-72cd-41b2-f020-cf5aba67f0fc"
      },
      "outputs": [
        {
          "output_type": "stream",
          "name": "stdout",
          "text": [
            "Looking in indexes: https://pypi.org/simple, https://us-python.pkg.dev/colab-wheels/public/simple/\n",
            "Collecting python-statemachine\n",
            "  Downloading python_statemachine-1.0.3-py2.py3-none-any.whl (25 kB)\n",
            "Installing collected packages: python-statemachine\n",
            "Successfully installed python-statemachine-1.0.3\n"
          ]
        }
      ],
      "source": [
        "!pip install python-statemachine"
      ]
    },
    {
      "cell_type": "markdown",
      "source": [
        "Другие интересные библиотеки:\n",
        "<ul>\n",
        "  <li>https://github.com/alysivji/finite-state-machine</li>\n",
        "</ul>"
      ],
      "metadata": {
        "id": "X78Za-lKKKyY"
      }
    },
    {
      "cell_type": "code",
      "execution_count": null,
      "metadata": {
        "id": "KYIkdRo5HuQY"
      },
      "outputs": [],
      "source": [
        "from statemachine import StateMachine, State"
      ]
    },
    {
      "cell_type": "code",
      "execution_count": null,
      "metadata": {
        "colab": {
          "base_uri": "https://localhost:8080/"
        },
        "id": "QbnE1W7_HuQZ",
        "outputId": "e3bd8e90-7cf5-43e4-dfe4-28205b5325f3"
      },
      "outputs": [
        {
          "output_type": "stream",
          "name": "stdout",
          "text": [
            "исходное состояние\n"
          ]
        }
      ],
      "source": [
        "class MoydodirAvtomat(StateMachine):\n",
        "    # состояния\n",
        "    newState = State(\"исходное состояние\", initial = True)\n",
        "    runnableState = State(\"залив\")\n",
        "    onCPUState = State(\"стирка\")\n",
        "    timerInterruptedState = State(\"слив\")\n",
        "    errorInterruptedState = State(\"дефект\")\n",
        "    fixedState = State(\"починена\")\n",
        "      \n",
        "    # переходы\n",
        "    switchPusk = newState.to(runnableState)  # пуск: из готовой -> залив\n",
        "    switchD1Interrupt = runnableState.to(onCPUState)  # прерывание d1: из залива -> на CPU\n",
        "    switchTimerInterrupt = onCPUState.to(timerInterruptedState)  # прерывание по таймеру: из CPU -> на слив\n",
        "    switchBrokenInterrupt = onCPUState.to(errorInterruptedState)  # прерывание по ошибке: из CPU -> в дефект\n",
        "    switchD2Interrupt = timerInterruptedState.to(newState)  # прерывание d2: из слива -> выключаем\n",
        "    switchFix = errorInterruptedState.to(fixedState)  # починка: из ломаной -> починеная\n",
        "    switchReset = fixedState.to(newState)  # починка: починеная -> к бою готова\n",
        "\n",
        "moydodir = MoydodirAvtomat()\n",
        "print(moydodir.current_state.name)"
      ]
    },
    {
      "cell_type": "code",
      "execution_count": null,
      "metadata": {
        "colab": {
          "base_uri": "https://localhost:8080/"
        },
        "id": "XaFhNXuzHuQa",
        "outputId": "aaaf8bd8-c466-4a4f-d26f-d3dd3e26965c"
      },
      "outputs": [
        {
          "output_type": "execute_result",
          "data": {
            "text/plain": [
              "(Датчик \"больше чем\" с порогом 100, Датчик \"меньше или равно\" с порогом 0)"
            ]
          },
          "metadata": {},
          "execution_count": 4
        }
      ],
      "source": [
        "class Sensor():\n",
        "    def __init__(self, threshold: float):\n",
        "        self.threshold = threshold\n",
        "    \n",
        "    @property\n",
        "    def sensor_type(self) -> str:\n",
        "        raise NotImplementedError()\n",
        "    \n",
        "    def check(self, *args, **kwargs) -> bool:\n",
        "        raise NotImplementedError()\n",
        "    \n",
        "    def __repr__(self) -> str:\n",
        "        return f'Датчик \"{self.sensor_type}\" с порогом {self.threshold}\\n'\n",
        "\n",
        "class OverSensor(Sensor):\n",
        "    @property\n",
        "    def sensor_type(self) -> str:\n",
        "        return 'больше чем'\n",
        "    \n",
        "    def check(self, level: float) -> bool:\n",
        "        return level > self.threshold\n",
        "\n",
        "class UnderSensor(Sensor):\n",
        "    @property\n",
        "    def sensor_type(self) -> str:\n",
        "        return 'меньше или равно'\n",
        "    \n",
        "    def check(self, level: float) -> bool:\n",
        "        return level <= self.threshold\n",
        "\n",
        "\n",
        "MAX_CAPACITY = 100\n",
        "ZERO_LEVEL = 0\n",
        "\n",
        "d1 = OverSensor(MAX_CAPACITY)\n",
        "d2 = UnderSensor(ZERO_LEVEL)\n",
        "\n",
        "d1, d2"
      ]
    },
    {
      "cell_type": "code",
      "execution_count": null,
      "metadata": {
        "colab": {
          "base_uri": "https://localhost:8080/"
        },
        "id": "e4Sh0slUHuQb",
        "outputId": "427918d8-e647-45c7-b1fc-fbd1ec4c549a"
      },
      "outputs": [
        {
          "output_type": "execute_result",
          "data": {
            "text/plain": [
              "(Датчик \"button\" с порогом True, Датчик \"button\" с порогом True)"
            ]
          },
          "metadata": {},
          "execution_count": 13
        }
      ],
      "source": [
        "class Button(Sensor):\n",
        "    def __init__(self):\n",
        "        super().__init__(True)\n",
        "        self.level = False\n",
        "    \n",
        "    @property\n",
        "    def sensor_type(self) -> str:\n",
        "        return 'button'\n",
        "    \n",
        "    def press(self):\n",
        "        self.level = True\n",
        "    \n",
        "    def check(self, *args, **kwargs) -> bool:\n",
        "        if self.level == self.threshold:\n",
        "            self.level = False\n",
        "            return True\n",
        "        return False\n",
        "\n",
        "pusk = Button()\n",
        "reset = Button()\n",
        "pusk, reset"
      ]
    },
    {
      "cell_type": "code",
      "execution_count": null,
      "metadata": {
        "id": "To2QAN7O4C4b"
      },
      "outputs": [],
      "source": [
        "class Moydodir:\n",
        "    def __init__(self, max_capacity: int = MAX_CAPACITY, min_capacity: int = ZERO_LEVEL, init_water_level: float = 0, is_timer_broken: bool = False, wash_time: float = 5, water_per_tick: float = 25):\n",
        "        self.core = MoydodirAvtomat()\n",
        "        self.d1 = OverSensor(max_capacity)\n",
        "        self.d2 = UnderSensor(min_capacity)\n",
        "        self.pusk_button = Button()\n",
        "        self.reset_button = Button()\n",
        "        self.timer = OverSensor(wash_time)\n",
        "        self.water_level = init_water_level\n",
        "        self.water_per_tick = water_per_tick\n",
        "        self.is_timer_broken = is_timer_broken\n",
        "    \n",
        "    def run(self, max_tick:int = 50, verbose: bool = True):\n",
        "        tick = 0\n",
        "        trace = []\n",
        "        while tick < max_tick:\n",
        "            current_state = self.core.current_state.name\n",
        "            if verbose:\n",
        "                print(f'Сейчас я в состоянии \"{current_state}\"')\n",
        "            \n",
        "            if current_state == 'исходное состояние':\n",
        "                pusk = input('Жмякнуть пуск? ')\n",
        "                if pusk.lower() in ['ага', 'да', 'yes', 'yeah', '+']:\n",
        "                    self.pusk_button.press()\n",
        "                if self.pusk_button.check():\n",
        "                    if verbose:\n",
        "                        print('Запускаю залив!')\n",
        "                    self.core.switchPusk()\n",
        "            if current_state == 'залив':\n",
        "                if not self.d1.check(self.water_level):\n",
        "                    self.water_level += self.water_per_tick\n",
        "                    if verbose:\n",
        "                        print(f'Залила воды на {self.water_level}!')\n",
        "                else:\n",
        "                    if verbose:\n",
        "                        print('Запускаю стирку!')\n",
        "                    self.core.switchD1Interrupt()\n",
        "            if current_state == 'стирка':\n",
        "                if self.is_timer_broken:\n",
        "                    if verbose:\n",
        "                        print('УУУУПС!!! Счастливые стиралки таймеров не наблюдают')\n",
        "                    self.core.switchBrokenInterrupt()\n",
        "                else:\n",
        "                    if self.timer.check(tick):\n",
        "                        if verbose:\n",
        "                            print('Стирка окончена')\n",
        "                        self.core.switchTimerInterrupt()\n",
        "                    elif verbose:\n",
        "                        print('Стирка в процессе')\n",
        "            if current_state == 'слив':\n",
        "                if not self.d2.check(self.water_level):\n",
        "                    self.water_level -= self.water_per_tick\n",
        "                    if verbose:\n",
        "                        print(f'Вылила воды на {self.water_level}!')\n",
        "                else:\n",
        "                    if verbose:\n",
        "                        print('Конец стирки!')\n",
        "                    self.core.switchD2Interrupt()\n",
        "            if current_state == 'дефект':\n",
        "                fix = input('Починить? ')\n",
        "                if fix.lower() in ['ага', 'да', 'yes', 'yeah', '+']:\n",
        "                    if verbose:\n",
        "                        print('Чиню!')\n",
        "                    self.core.switchFix()\n",
        "                    self.is_timer_broken = False\n",
        "            if current_state == 'починена':\n",
        "                reset = input('Жмякнуть reset? ')\n",
        "                if reset.lower() in ['ага', 'да', 'yes', 'yeah', '+']:\n",
        "                    if verbose:\n",
        "                        print('Завожу машину!')\n",
        "                    self.core.switchReset()\n",
        "            \n",
        "            trace.append(current_state)\n",
        "            tick += 1"
      ]
    },
    {
      "cell_type": "code",
      "execution_count": null,
      "metadata": {
        "colab": {
          "base_uri": "https://localhost:8080/"
        },
        "id": "Zr1fKIFO4QIa",
        "outputId": "58862864-374b-4bc0-dd26-15783dd45598"
      },
      "outputs": [
        {
          "output_type": "execute_result",
          "data": {
            "text/plain": [
              "(True, False, False)"
            ]
          },
          "metadata": {},
          "execution_count": 7
        }
      ],
      "source": [
        "# Проверка свойств\n",
        "moydodir.is_newState, moydodir.is_runnableState, moydodir.is_onCPUState"
      ]
    },
    {
      "cell_type": "code",
      "execution_count": null,
      "metadata": {
        "colab": {
          "base_uri": "https://localhost:8080/"
        },
        "id": "nhUsswua4bFr",
        "outputId": "300bdeca-ec1a-4976-8df3-1ce3ea19fa58"
      },
      "outputs": [
        {
          "output_type": "execute_result",
          "data": {
            "text/plain": [
              "['errorInterruptedState',\n",
              " 'fixedState',\n",
              " 'newState',\n",
              " 'onCPUState',\n",
              " 'runnableState',\n",
              " 'timerInterruptedState']"
            ]
          },
          "metadata": {},
          "execution_count": 8
        }
      ],
      "source": [
        "[s.identifier for s in moydodir.states]"
      ]
    },
    {
      "cell_type": "code",
      "execution_count": null,
      "metadata": {
        "colab": {
          "base_uri": "https://localhost:8080/"
        },
        "id": "egIrE-g64gEs",
        "outputId": "ba56d481-e449-495c-d76e-30f124609505"
      },
      "outputs": [
        {
          "output_type": "execute_result",
          "data": {
            "text/plain": [
              "['switchBrokenInterrupt',\n",
              " 'switchD1Interrupt',\n",
              " 'switchD2Interrupt',\n",
              " 'switchFix',\n",
              " 'switchPusk',\n",
              " 'switchReset',\n",
              " 'switchTimerInterrupt']"
            ]
          },
          "metadata": {},
          "execution_count": 10
        }
      ],
      "source": [
        "[tr.identifier for tr in moydodir.transitions]"
      ]
    },
    {
      "cell_type": "code",
      "execution_count": null,
      "metadata": {
        "colab": {
          "base_uri": "https://localhost:8080/"
        },
        "id": "uHilTQQ1HuQf",
        "outputId": "edf08064-3a13-4d53-a2e8-19f5734cad0e"
      },
      "outputs": [
        {
          "output_type": "stream",
          "name": "stdout",
          "text": [
            "Сейчас я в состоянии \"исходное состояние\"\n",
            "Жмякнуть пуск? +\n",
            "Запускаю залив!\n",
            "Сейчас я в состоянии \"залив\"\n",
            "Залила воды на 25!\n",
            "Сейчас я в состоянии \"залив\"\n",
            "Залила воды на 50!\n",
            "Сейчас я в состоянии \"залив\"\n",
            "Залила воды на 75!\n",
            "Сейчас я в состоянии \"залив\"\n",
            "Залила воды на 100!\n",
            "Сейчас я в состоянии \"залив\"\n",
            "Залила воды на 125!\n",
            "Сейчас я в состоянии \"залив\"\n",
            "Запускаю стирку!\n",
            "Сейчас я в состоянии \"стирка\"\n",
            "Стирка окончена\n",
            "Сейчас я в состоянии \"слив\"\n",
            "Вылила воды на 100!\n",
            "Сейчас я в состоянии \"слив\"\n",
            "Вылила воды на 75!\n",
            "Сейчас я в состоянии \"слив\"\n",
            "Вылила воды на 50!\n",
            "Сейчас я в состоянии \"слив\"\n",
            "Вылила воды на 25!\n",
            "Сейчас я в состоянии \"слив\"\n",
            "Вылила воды на 0!\n",
            "Сейчас я в состоянии \"слив\"\n",
            "Конец стирки!\n",
            "Сейчас я в состоянии \"исходное состояние\"\n",
            "Жмякнуть пуск? +\n",
            "Запускаю залив!\n",
            "Сейчас я в состоянии \"залив\"\n",
            "Залила воды на 25!\n",
            "Сейчас я в состоянии \"залив\"\n",
            "Залила воды на 50!\n",
            "Сейчас я в состоянии \"залив\"\n",
            "Залила воды на 75!\n",
            "Сейчас я в состоянии \"залив\"\n",
            "Залила воды на 100!\n",
            "Сейчас я в состоянии \"залив\"\n",
            "Залила воды на 125!\n",
            "Сейчас я в состоянии \"залив\"\n",
            "Запускаю стирку!\n",
            "Сейчас я в состоянии \"стирка\"\n",
            "Стирка окончена\n",
            "Сейчас я в состоянии \"слив\"\n",
            "Вылила воды на 100!\n",
            "Сейчас я в состоянии \"слив\"\n",
            "Вылила воды на 75!\n",
            "Сейчас я в состоянии \"слив\"\n",
            "Вылила воды на 50!\n",
            "Сейчас я в состоянии \"слив\"\n",
            "Вылила воды на 25!\n",
            "Сейчас я в состоянии \"слив\"\n",
            "Вылила воды на 0!\n",
            "Сейчас я в состоянии \"слив\"\n",
            "Конец стирки!\n",
            "Сейчас я в состоянии \"исходное состояние\"\n",
            "Жмякнуть пуск? +\n",
            "Запускаю залив!\n",
            "Сейчас я в состоянии \"залив\"\n",
            "Залила воды на 25!\n",
            "Сейчас я в состоянии \"залив\"\n",
            "Залила воды на 50!\n",
            "Сейчас я в состоянии \"залив\"\n",
            "Залила воды на 75!\n",
            "Сейчас я в состоянии \"залив\"\n",
            "Залила воды на 100!\n",
            "Сейчас я в состоянии \"залив\"\n",
            "Залила воды на 125!\n",
            "Сейчас я в состоянии \"залив\"\n",
            "Запускаю стирку!\n",
            "Сейчас я в состоянии \"стирка\"\n",
            "Стирка окончена\n",
            "Сейчас я в состоянии \"слив\"\n",
            "Вылила воды на 100!\n",
            "Сейчас я в состоянии \"слив\"\n",
            "Вылила воды на 75!\n",
            "Сейчас я в состоянии \"слив\"\n",
            "Вылила воды на 50!\n",
            "Сейчас я в состоянии \"слив\"\n",
            "Вылила воды на 25!\n",
            "Сейчас я в состоянии \"слив\"\n",
            "Вылила воды на 0!\n",
            "Сейчас я в состоянии \"слив\"\n",
            "Конец стирки!\n",
            "Сейчас я в состоянии \"исходное состояние\"\n",
            "Жмякнуть пуск? -\n",
            "Сейчас я в состоянии \"исходное состояние\"\n",
            "Жмякнуть пуск? +\n",
            "Запускаю залив!\n",
            "Сейчас я в состоянии \"залив\"\n",
            "Залила воды на 25!\n",
            "Сейчас я в состоянии \"залив\"\n",
            "Залила воды на 50!\n",
            "Сейчас я в состоянии \"залив\"\n",
            "Залила воды на 75!\n",
            "Сейчас я в состоянии \"залив\"\n",
            "Залила воды на 100!\n",
            "Сейчас я в состоянии \"залив\"\n",
            "Залила воды на 125!\n",
            "Сейчас я в состоянии \"залив\"\n",
            "Запускаю стирку!\n",
            "Сейчас я в состоянии \"стирка\"\n",
            "Стирка окончена\n",
            "Сейчас я в состоянии \"слив\"\n",
            "Вылила воды на 100!\n",
            "Сейчас я в состоянии \"слив\"\n",
            "Вылила воды на 75!\n",
            "Сейчас я в состоянии \"слив\"\n",
            "Вылила воды на 50!\n",
            "Сейчас я в состоянии \"слив\"\n",
            "Вылила воды на 25!\n",
            "Сейчас я в состоянии \"слив\"\n",
            "Вылила воды на 0!\n",
            "Сейчас я в состоянии \"слив\"\n",
            "Конец стирки!\n",
            "Сейчас я в состоянии \"исходное состояние\"\n",
            "Жмякнуть пуск? +\n",
            "Запускаю залив!\n",
            "Сейчас я в состоянии \"залив\"\n",
            "Залила воды на 25!\n",
            "Сейчас я в состоянии \"залив\"\n",
            "Залила воды на 50!\n",
            "Сейчас я в состоянии \"залив\"\n",
            "Залила воды на 75!\n",
            "Сейчас я в состоянии \"залив\"\n",
            "Залила воды на 100!\n",
            "Сейчас я в состоянии \"залив\"\n",
            "Залила воды на 125!\n",
            "Сейчас я в состоянии \"залив\"\n",
            "Запускаю стирку!\n",
            "Сейчас я в состоянии \"стирка\"\n",
            "Стирка окончена\n",
            "Сейчас я в состоянии \"слив\"\n",
            "Вылила воды на 100!\n",
            "Сейчас я в состоянии \"слив\"\n",
            "Вылила воды на 75!\n",
            "Сейчас я в состоянии \"слив\"\n",
            "Вылила воды на 50!\n",
            "Сейчас я в состоянии \"слив\"\n",
            "Вылила воды на 25!\n",
            "Сейчас я в состоянии \"слив\"\n",
            "Вылила воды на 0!\n",
            "Сейчас я в состоянии \"слив\"\n",
            "Конец стирки!\n",
            "Сейчас я в состоянии \"исходное состояние\"\n",
            "Жмякнуть пуск? +\n",
            "Запускаю залив!\n",
            "Сейчас я в состоянии \"залив\"\n",
            "Залила воды на 25!\n",
            "Сейчас я в состоянии \"залив\"\n",
            "Залила воды на 50!\n",
            "Сейчас я в состоянии \"залив\"\n",
            "Залила воды на 75!\n",
            "Сейчас я в состоянии \"залив\"\n",
            "Залила воды на 100!\n",
            "Сейчас я в состоянии \"залив\"\n",
            "Залила воды на 125!\n",
            "Сейчас я в состоянии \"залив\"\n",
            "Запускаю стирку!\n",
            "Сейчас я в состоянии \"стирка\"\n",
            "Стирка окончена\n",
            "Сейчас я в состоянии \"слив\"\n",
            "Вылила воды на 100!\n",
            "Сейчас я в состоянии \"слив\"\n",
            "Вылила воды на 75!\n",
            "Сейчас я в состоянии \"слив\"\n",
            "Вылила воды на 50!\n",
            "Сейчас я в состоянии \"слив\"\n",
            "Вылила воды на 25!\n",
            "Сейчас я в состоянии \"слив\"\n",
            "Вылила воды на 0!\n",
            "Сейчас я в состоянии \"слив\"\n",
            "Конец стирки!\n",
            "Сейчас я в состоянии \"исходное состояние\"\n",
            "Жмякнуть пуск? +\n",
            "Запускаю залив!\n",
            "Сейчас я в состоянии \"залив\"\n",
            "Залила воды на 25!\n",
            "Сейчас я в состоянии \"залив\"\n",
            "Залила воды на 50!\n",
            "Сейчас я в состоянии \"залив\"\n",
            "Залила воды на 75!\n",
            "Сейчас я в состоянии \"залив\"\n",
            "Залила воды на 100!\n",
            "Сейчас я в состоянии \"залив\"\n",
            "Залила воды на 125!\n",
            "Сейчас я в состоянии \"залив\"\n",
            "Запускаю стирку!\n",
            "Сейчас я в состоянии \"стирка\"\n",
            "Стирка окончена\n",
            "Сейчас я в состоянии \"слив\"\n",
            "Вылила воды на 100!\n",
            "Сейчас я в состоянии \"слив\"\n",
            "Вылила воды на 75!\n",
            "Сейчас я в состоянии \"слив\"\n",
            "Вылила воды на 50!\n",
            "Сейчас я в состоянии \"слив\"\n",
            "Вылила воды на 25!\n",
            "Сейчас я в состоянии \"слив\"\n",
            "Вылила воды на 0!\n",
            "Сейчас я в состоянии \"слив\"\n",
            "Конец стирки!\n",
            "Сейчас я в состоянии \"исходное состояние\"\n",
            "Жмякнуть пуск? +\n",
            "Запускаю залив!\n"
          ]
        }
      ],
      "source": [
        "super_moydodir = Moydodir()\n",
        "super_moydodir.run()"
      ]
    },
    {
      "cell_type": "code",
      "execution_count": null,
      "metadata": {
        "colab": {
          "base_uri": "https://localhost:8080/"
        },
        "id": "73gFwLr3HuQg",
        "outputId": "3f11f55d-e4a5-4e25-8dd2-53c7c5cb29b8"
      },
      "outputs": [
        {
          "output_type": "stream",
          "name": "stdout",
          "text": [
            "Сейчас я в состоянии \"исходное состояние\"\n",
            "Жмякнуть пуск? -\n",
            "Сейчас я в состоянии \"исходное состояние\"\n",
            "Жмякнуть пуск? +\n",
            "Запускаю залив!\n",
            "Сейчас я в состоянии \"залив\"\n",
            "Залила воды на 25!\n",
            "Сейчас я в состоянии \"залив\"\n",
            "Залила воды на 50!\n",
            "Сейчас я в состоянии \"залив\"\n",
            "Залила воды на 75!\n",
            "Сейчас я в состоянии \"залив\"\n",
            "Залила воды на 100!\n",
            "Сейчас я в состоянии \"залив\"\n",
            "Залила воды на 125!\n",
            "Сейчас я в состоянии \"залив\"\n",
            "Запускаю стирку!\n",
            "Сейчас я в состоянии \"стирка\"\n",
            "УУУУПС!!! Счастливые стиралки таймеров не наблюдают\n",
            "Сейчас я в состоянии \"дефект\"\n",
            "Починить? +\n",
            "Чиню!\n",
            "Сейчас я в состоянии \"починена\"\n",
            "Жмякнуть reset? +\n",
            "Завожу машину!\n",
            "Сейчас я в состоянии \"исходное состояние\"\n",
            "Жмякнуть пуск? +\n",
            "Запускаю залив!\n",
            "Сейчас я в состоянии \"залив\"\n",
            "Запускаю стирку!\n",
            "Сейчас я в состоянии \"стирка\"\n",
            "Стирка окончена\n",
            "Сейчас я в состоянии \"слив\"\n",
            "Вылила воды на 100!\n",
            "Сейчас я в состоянии \"слив\"\n",
            "Вылила воды на 75!\n",
            "Сейчас я в состоянии \"слив\"\n",
            "Вылила воды на 50!\n",
            "Сейчас я в состоянии \"слив\"\n",
            "Вылила воды на 25!\n",
            "Сейчас я в состоянии \"слив\"\n",
            "Вылила воды на 0!\n",
            "Сейчас я в состоянии \"слив\"\n",
            "Конец стирки!\n",
            "Сейчас я в состоянии \"исходное состояние\"\n",
            "Жмякнуть пуск? +\n",
            "Запускаю залив!\n",
            "Сейчас я в состоянии \"залив\"\n",
            "Залила воды на 25!\n",
            "Сейчас я в состоянии \"залив\"\n",
            "Залила воды на 50!\n",
            "Сейчас я в состоянии \"залив\"\n",
            "Залила воды на 75!\n",
            "Сейчас я в состоянии \"залив\"\n",
            "Залила воды на 100!\n",
            "Сейчас я в состоянии \"залив\"\n",
            "Залила воды на 125!\n",
            "Сейчас я в состоянии \"залив\"\n",
            "Запускаю стирку!\n",
            "Сейчас я в состоянии \"стирка\"\n",
            "Стирка окончена\n",
            "Сейчас я в состоянии \"слив\"\n",
            "Вылила воды на 100!\n",
            "Сейчас я в состоянии \"слив\"\n",
            "Вылила воды на 75!\n",
            "Сейчас я в состоянии \"слив\"\n",
            "Вылила воды на 50!\n",
            "Сейчас я в состоянии \"слив\"\n",
            "Вылила воды на 25!\n",
            "Сейчас я в состоянии \"слив\"\n",
            "Вылила воды на 0!\n",
            "Сейчас я в состоянии \"слив\"\n",
            "Конец стирки!\n",
            "Сейчас я в состоянии \"исходное состояние\"\n",
            "Жмякнуть пуск? +\n",
            "Запускаю залив!\n",
            "Сейчас я в состоянии \"залив\"\n",
            "Залила воды на 25!\n",
            "Сейчас я в состоянии \"залив\"\n",
            "Залила воды на 50!\n",
            "Сейчас я в состоянии \"залив\"\n",
            "Залила воды на 75!\n",
            "Сейчас я в состоянии \"залив\"\n",
            "Залила воды на 100!\n",
            "Сейчас я в состоянии \"залив\"\n",
            "Залила воды на 125!\n",
            "Сейчас я в состоянии \"залив\"\n",
            "Запускаю стирку!\n",
            "Сейчас я в состоянии \"стирка\"\n",
            "Стирка окончена\n",
            "Сейчас я в состоянии \"слив\"\n",
            "Вылила воды на 100!\n",
            "Сейчас я в состоянии \"слив\"\n",
            "Вылила воды на 75!\n",
            "Сейчас я в состоянии \"слив\"\n",
            "Вылила воды на 50!\n",
            "Сейчас я в состоянии \"слив\"\n",
            "Вылила воды на 25!\n",
            "Сейчас я в состоянии \"слив\"\n",
            "Вылила воды на 0!\n",
            "Сейчас я в состоянии \"слив\"\n",
            "Конец стирки!\n",
            "Сейчас я в состоянии \"исходное состояние\"\n",
            "Жмякнуть пуск? +\n",
            "Запускаю залив!\n",
            "Сейчас я в состоянии \"залив\"\n",
            "Залила воды на 25!\n"
          ]
        }
      ],
      "source": [
        "broken_moydodir = Moydodir(is_timer_broken=True)\n",
        "broken_moydodir.run()"
      ]
    },
    {
      "cell_type": "markdown",
      "source": [
        "### Диаграммы переходов"
      ],
      "metadata": {
        "id": "Wao-dXlPLEnF"
      }
    },
    {
      "cell_type": "markdown",
      "source": [
        "![автомат.png](data:image/png;base64,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)"
      ],
      "metadata": {
        "id": "NgM4OvcNNTAE"
      }
    }
  ],
  "metadata": {
    "colab": {
      "provenance": [],
      "toc_visible": true,
      "include_colab_link": true
    },
    "kernelspec": {
      "display_name": "Python 3",
      "language": "python",
      "name": "python3"
    },
    "language_info": {
      "codemirror_mode": {
        "name": "ipython",
        "version": 3
      },
      "file_extension": ".py",
      "mimetype": "text/x-python",
      "name": "python",
      "nbconvert_exporter": "python",
      "pygments_lexer": "ipython3",
      "version": "3.8.8"
    }
  },
  "nbformat": 4,
  "nbformat_minor": 0
}